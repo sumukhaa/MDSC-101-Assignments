{
 "cells": [
  {
   "cell_type": "code",
   "execution_count": 46,
   "metadata": {},
   "outputs": [],
   "source": [
    "import numpy as np\n",
    "from numpy import linalg as la"
   ]
  },
  {
   "cell_type": "code",
   "execution_count": 47,
   "metadata": {},
   "outputs": [],
   "source": [
    "def add_elements(m,n):\n",
    "    matrix=[]\n",
    "    for x in range(m):\n",
    "        row=[]\n",
    "        print('Enter all the elements of row ',x,':')\n",
    "        \n",
    "        for y in range(n):\n",
    "            temp=float(input())\n",
    "            row.append(temp)\n",
    "            \n",
    "        matrix.append(row)\n",
    "        \n",
    "    return matrix"
   ]
  },
  {
   "cell_type": "code",
   "execution_count": 64,
   "metadata": {},
   "outputs": [],
   "source": [
    "def Print(mat):\n",
    "    print('\\nMatrix: ')\n",
    "    if type(mat[0])==list:\n",
    "        for x in range(len(mat)):\n",
    "            for y in range(len(mat[0])):\n",
    "                print(mat[x][y],end='\\t')\n",
    "            print()\n",
    "\n",
    "    else: \n",
    "        for x in range(len(mat)):\n",
    "            print(mat[x],end='\\t')\n",
    "        print()\n",
    "\n",
    "    return "
   ]
  },
  {
   "cell_type": "code",
   "execution_count": 49,
   "metadata": {},
   "outputs": [
    {
     "name": "stdout",
     "output_type": "stream",
     "text": [
      "Enter all the elements of row  0 :\n",
      "Enter all the elements of row  1 :\n"
     ]
    }
   ],
   "source": [
    "m=int(input('Enter no. of rows (m) of matrix (m×n):'))\n",
    "n=int(input('Enter no. of cols (n) of matrix (m×n):'))\n",
    "A=add_elements(m,n)"
   ]
  },
  {
   "cell_type": "code",
   "execution_count": 50,
   "metadata": {},
   "outputs": [
    {
     "name": "stdout",
     "output_type": "stream",
     "text": [
      "\n",
      "Matrix: \n",
      "3.0\t2.0\t2.0\t\n",
      "2.0\t3.0\t-2.0\t\n"
     ]
    },
    {
     "data": {
      "text/plain": [
       "array([[17.,  8.],\n",
       "       [ 8., 17.]])"
      ]
     },
     "execution_count": 50,
     "metadata": {},
     "output_type": "execute_result"
    }
   ],
   "source": [
    "Print(A)\n",
    "\n",
    "U = np.matmul(A, np.transpose(A))\n",
    "U\n",
    "# print('\\nEigenvalues of given matrix are: ')\n",
    "# print(la.eig(A)[0])\n",
    "\n",
    "# print('\\nEigenvectors of given matrix are: ')\n",
    "# for x in la.eig(A)[1]:\n",
    "#     print(x)"
   ]
  },
  {
   "cell_type": "code",
   "execution_count": 51,
   "metadata": {},
   "outputs": [
    {
     "data": {
      "text/plain": [
       "array([[13., 12.,  2.],\n",
       "       [12., 13., -2.],\n",
       "       [ 2., -2.,  8.]])"
      ]
     },
     "execution_count": 51,
     "metadata": {},
     "output_type": "execute_result"
    }
   ],
   "source": [
    "V = np.matmul(np.transpose(A), A)\n",
    "V"
   ]
  },
  {
   "cell_type": "code",
   "execution_count": 55,
   "metadata": {},
   "outputs": [
    {
     "data": {
      "text/plain": [
       "EigResult(eigenvalues=array([25.,  9.]), eigenvectors=array([[ 0.70710678, -0.70710678],\n",
       "       [ 0.70710678,  0.70710678]]))"
      ]
     },
     "execution_count": 55,
     "metadata": {},
     "output_type": "execute_result"
    }
   ],
   "source": [
    "eig_vals = la.eig(U)\n",
    "eig_vals"
   ]
  },
  {
   "cell_type": "code",
   "execution_count": 65,
   "metadata": {},
   "outputs": [
    {
     "name": "stdout",
     "output_type": "stream",
     "text": [
      "\n",
      "Matrix: \n",
      "5.0\t0\t0\t\n",
      "0\t3.0\t0\t\n"
     ]
    }
   ],
   "source": [
    "lamb = []\n",
    "ind=0\n",
    "for x in range(m):\n",
    "    arr=[]\n",
    "    for y in range(n):\n",
    "        if x==y:\n",
    "            arr.append(np.round((np.sqrt(eig_vals[0][ind])),3))\n",
    "            ind+=1\n",
    "        else:\n",
    "            arr.append(0)\n",
    "    lamb.append(arr)\n",
    "\n",
    "Print(lamb)"
   ]
  },
  {
   "cell_type": "code",
   "execution_count": 68,
   "metadata": {},
   "outputs": [
    {
     "data": {
      "text/plain": [
       "array([[17.,  8.],\n",
       "       [ 8., 17.]])"
      ]
     },
     "execution_count": 68,
     "metadata": {},
     "output_type": "execute_result"
    }
   ],
   "source": [
    "U"
   ]
  },
  {
   "cell_type": "code",
   "execution_count": 101,
   "metadata": {},
   "outputs": [
    {
     "data": {
      "text/plain": [
       "array([[ 0.70710678,  0.70710678],\n",
       "       [-0.70710678,  0.70710678]])"
      ]
     },
     "execution_count": 101,
     "metadata": {},
     "output_type": "execute_result"
    }
   ],
   "source": [
    "ueig= la.eig(U)[1]\n",
    "\n",
    "for x in ueig:\n",
    "    norm=0\n",
    "    for y in x:\n",
    "        norm+=y**2\n",
    "    \n",
    "    norm=norm**(1/2)\n",
    "\n",
    "    for y in x:\n",
    "        y=y/norm\n",
    "\n",
    "ueig=np.transpose(ueig)\n",
    "veig=np.round(ueig,8)\n",
    "ueig"
   ]
  },
  {
   "cell_type": "code",
   "execution_count": 102,
   "metadata": {},
   "outputs": [
    {
     "name": "stdout",
     "output_type": "stream",
     "text": [
      "[[-7.07106781e-01 -6.66666667e-01  2.35702260e-01]\n",
      " [-7.07106781e-01  6.66666667e-01 -2.35702260e-01]\n",
      " [-4.59701721e-17  3.33333333e-01  9.42809042e-01]]\n"
     ]
    },
    {
     "data": {
      "text/plain": [
       "array([[-0.70710678, -0.70710678, -0.        ],\n",
       "       [-0.66666667,  0.66666667,  0.33333333],\n",
       "       [ 0.23570226, -0.23570226,  0.94280904]])"
      ]
     },
     "execution_count": 102,
     "metadata": {},
     "output_type": "execute_result"
    }
   ],
   "source": [
    "veig= la.eig(V)[1]\n",
    "print(veig)\n",
    "for x in veig:\n",
    "    norm=0\n",
    "    for y in x:\n",
    "        norm+=(y**2)\n",
    "    \n",
    "    norm=norm**(1/2)\n",
    "\n",
    "    for y in x:\n",
    "        y=y/norm\n",
    "\n",
    "veig=np.transpose(veig)\n",
    "veig=np.round(veig,8)\n",
    "veig"
   ]
  },
  {
   "cell_type": "code",
   "execution_count": 100,
   "metadata": {},
   "outputs": [
    {
     "data": {
      "text/plain": [
       "array([[-1.        , -3.77123619,  1.33333333],\n",
       "       [-3.99999999, -0.94280905,  0.33333333]])"
      ]
     },
     "execution_count": 100,
     "metadata": {},
     "output_type": "execute_result"
    }
   ],
   "source": [
    "b=np.matmul(lamb,veig)\n",
    "z=np.matmul(ueig,b)\n",
    "z"
   ]
  },
  {
   "cell_type": "code",
   "execution_count": null,
   "metadata": {},
   "outputs": [],
   "source": []
  }
 ],
 "metadata": {
  "kernelspec": {
   "display_name": "Python 3",
   "language": "python",
   "name": "python3"
  },
  "language_info": {
   "codemirror_mode": {
    "name": "ipython",
    "version": 3
   },
   "file_extension": ".py",
   "mimetype": "text/x-python",
   "name": "python",
   "nbconvert_exporter": "python",
   "pygments_lexer": "ipython3",
   "version": "3.11.1"
  },
  "orig_nbformat": 4
 },
 "nbformat": 4,
 "nbformat_minor": 2
}
